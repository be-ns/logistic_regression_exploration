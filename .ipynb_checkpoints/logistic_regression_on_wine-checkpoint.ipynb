{
 "cells": [
  {
   "cell_type": "code",
   "execution_count": 17,
   "metadata": {},
   "outputs": [
    {
     "data": {
      "text/plain": [
       "LogisticRegression(C=1.0, class_weight=None, dual=False, fit_intercept=True,\n",
       "          intercept_scaling=1, max_iter=100, multi_class='ovr', n_jobs=1,\n",
       "          penalty='l2', random_state=None, solver='liblinear', tol=0.0001,\n",
       "          verbose=0, warm_start=False)"
      ]
     },
     "execution_count": 17,
     "metadata": {},
     "output_type": "execute_result"
    }
   ],
   "source": [
    "from sklearn.linear_model import LogisticRegression\n",
    "from sklearn.model_selection import train_test_split as tts\n",
    "from sklearn.metrics import f1_score\n",
    "import pandas as pd\n",
    "import numpy as np\n",
    "import matplotlib as plt\n",
    "\n",
    "\n",
    "# group white and red\n",
    "df_white = pd.read_csv('winequality-white.csv', delimiter = ';')\n",
    "df_red = pd.read_csv('winequality-red.csv', delimiter = ';')\n",
    "\n",
    "# make the column names snakecase for red wine data\n",
    "df_red['type'] = 1\n",
    "cols_red = df_red.columns.tolist()\n",
    "cols_red = [col.lower().replace(' ','_') for col in cols_red]\n",
    "df_red.columns = cols_red\n",
    "\n",
    "# make the column names snakecase for white wine data\n",
    "df_white['type'] = 0\n",
    "cols_white = df_white.columns.tolist()\n",
    "cols_white = [col.lower().replace(' ','_') for col in cols_white]\n",
    "df_white.columns = cols_white\n",
    "\n",
    "#combine dataframes\n",
    "combined_df = df_red.append(df_white)\n",
    "\n",
    "#get x and y values\n",
    "X = combined_df[['alcohol', 'residual_sugar', 'volatile_acidity']].values\n",
    "y = combined_df['type'].values\n",
    "\n",
    "# train test split\n",
    "X_train, X_test, y_train, y_test = tts(X, y)\n",
    "\n",
    "logistic_model = LogisticRegression(solver='liblinear', max_iter=100)\n",
    "logistic_model.fit(X_train, y_train)\n"
   ]
  },
  {
   "cell_type": "code",
   "execution_count": 18,
   "metadata": {},
   "outputs": [
    {
     "name": "stdout",
     "output_type": "stream",
     "text": [
      "1625\n",
      "1625\n",
      "(1625,)\n",
      "(1625,)\n",
      "0.750741839763\n"
     ]
    }
   ],
   "source": [
    "# predict values for test set\n",
    "predict = logistic_model.predict(X_test)\n",
    "# compare score using auc and f1_score\n",
    "\n",
    "#first ensure my shapes are correct\n",
    "print(len(y_test))\n",
    "print(len(predict))\n",
    "print(predict.shape)\n",
    "print(y_test.shape)\n",
    "\n",
    "# now run f1_score to test positive predictive accuracy\n",
    "print(f1_score(y_test, predict)\n",
    "\n"
   ]
  },
  {
   "cell_type": "markdown",
   "metadata": {},
   "source": [
    "An f1_score of .75 is not great, but for such a simple model with only three variables it's far better than a random guess. \n"
   ]
  },
  {
   "cell_type": "code",
   "execution_count": 19,
   "metadata": {},
   "outputs": [
    {
     "data": {
      "text/plain": [
       "array([0, 1, 1])"
      ]
     },
     "execution_count": 19,
     "metadata": {},
     "output_type": "execute_result"
    }
   ],
   "source": [
    "# Try predicting using our logistic model.\n",
    "logistic_model.predict(np.array([[11.2, 2, .10], [11., 1.5, .9], [12., 6., 1]]))"
   ]
  },
  {
   "cell_type": "markdown",
   "metadata": {},
   "source": [
    "This means the first 'sample' is a white wine, while both the second and third are predicted as white. "
   ]
  },
  {
   "cell_type": "code",
   "execution_count": 20,
   "metadata": {},
   "outputs": [
    {
     "data": {
      "text/plain": [
       "array([[ 0.97123125,  0.02876875],\n",
       "       [ 0.00373852,  0.99626148],\n",
       "       [ 0.01004334,  0.98995666]])"
      ]
     },
     "execution_count": 20,
     "metadata": {},
     "output_type": "execute_result"
    }
   ],
   "source": [
    "# logistic regression gives a probability, so we want to know\n",
    "# for each of these three predictions, how likely are they.\n",
    "logistic_model.predict_proba(np.array([[11.2, 2, .10], [11., 1.5, .9], [12., 6., 1]]))"
   ]
  },
  {
   "cell_type": "markdown",
   "metadata": {},
   "source": [
    "The above can be interpreted with the first value being the probability of being group 0 (aka White) and the second value as probability of being group 1 (aka Red).\n"
   ]
  },
  {
   "cell_type": "code",
   "execution_count": null,
   "metadata": {
    "collapsed": true
   },
   "outputs": [],
   "source": []
  }
 ],
 "metadata": {
  "kernelspec": {
   "display_name": "Python 3",
   "language": "python",
   "name": "python3"
  },
  "language_info": {
   "codemirror_mode": {
    "name": "ipython",
    "version": 3
   },
   "file_extension": ".py",
   "mimetype": "text/x-python",
   "name": "python",
   "nbconvert_exporter": "python",
   "pygments_lexer": "ipython3",
   "version": "3.6.1"
  }
 },
 "nbformat": 4,
 "nbformat_minor": 1
}
